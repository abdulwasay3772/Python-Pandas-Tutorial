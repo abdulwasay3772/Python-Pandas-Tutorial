{
 "cells": [
  {
   "cell_type": "code",
   "execution_count": 1,
   "id": "44f4b0d0",
   "metadata": {},
   "outputs": [],
   "source": [
    "## Make a list/Create dictionary\n",
    "people = {\n",
    "    \"first\": ['Abdul', 'Shah', 'Adnan'], \n",
    "    \"last\": ['Wasay', 'Khan', 'Khan'], \n",
    "    \"email\": ['abdulwasay@gmail.com', 'shahkhan@gmail.com', 'adnankhan@gmail.com']\n",
    "}"
   ]
  },
  {
   "cell_type": "code",
   "execution_count": 2,
   "id": "ff0dcf08",
   "metadata": {},
   "outputs": [],
   "source": [
    "import pandas as pd"
   ]
  },
  {
   "cell_type": "code",
   "execution_count": 3,
   "id": "a6e0fa59",
   "metadata": {},
   "outputs": [],
   "source": [
    "df = pd.DataFrame(people)"
   ]
  },
  {
   "cell_type": "code",
   "execution_count": 4,
   "id": "5f71c542",
   "metadata": {},
   "outputs": [
    {
     "data": {
      "text/html": [
       "<div>\n",
       "<style scoped>\n",
       "    .dataframe tbody tr th:only-of-type {\n",
       "        vertical-align: middle;\n",
       "    }\n",
       "\n",
       "    .dataframe tbody tr th {\n",
       "        vertical-align: top;\n",
       "    }\n",
       "\n",
       "    .dataframe thead th {\n",
       "        text-align: right;\n",
       "    }\n",
       "</style>\n",
       "<table border=\"1\" class=\"dataframe\">\n",
       "  <thead>\n",
       "    <tr style=\"text-align: right;\">\n",
       "      <th></th>\n",
       "      <th>first</th>\n",
       "      <th>last</th>\n",
       "      <th>email</th>\n",
       "    </tr>\n",
       "  </thead>\n",
       "  <tbody>\n",
       "    <tr>\n",
       "      <th>0</th>\n",
       "      <td>Abdul</td>\n",
       "      <td>Wasay</td>\n",
       "      <td>abdulwasay@gmail.com</td>\n",
       "    </tr>\n",
       "    <tr>\n",
       "      <th>1</th>\n",
       "      <td>Shah</td>\n",
       "      <td>Khan</td>\n",
       "      <td>shahkhan@gmail.com</td>\n",
       "    </tr>\n",
       "    <tr>\n",
       "      <th>2</th>\n",
       "      <td>Adnan</td>\n",
       "      <td>Khan</td>\n",
       "      <td>adnankhan@gmail.com</td>\n",
       "    </tr>\n",
       "  </tbody>\n",
       "</table>\n",
       "</div>"
      ],
      "text/plain": [
       "   first   last                 email\n",
       "0  Abdul  Wasay  abdulwasay@gmail.com\n",
       "1   Shah   Khan    shahkhan@gmail.com\n",
       "2  Adnan   Khan   adnankhan@gmail.com"
      ]
     },
     "execution_count": 4,
     "metadata": {},
     "output_type": "execute_result"
    }
   ],
   "source": [
    "df"
   ]
  },
  {
   "cell_type": "code",
   "execution_count": 5,
   "id": "71c657ff",
   "metadata": {},
   "outputs": [
    {
     "data": {
      "text/plain": [
       "0    Abdul Wasay\n",
       "1      Shah Khan\n",
       "2     Adnan Khan\n",
       "dtype: object"
      ]
     },
     "execution_count": 5,
     "metadata": {},
     "output_type": "execute_result"
    }
   ],
   "source": [
    "## display first and last name\n",
    "df['first'] + ' ' + df['last']"
   ]
  },
  {
   "cell_type": "code",
   "execution_count": 6,
   "id": "f888ccae",
   "metadata": {},
   "outputs": [],
   "source": [
    "## add the new column 'full_name'\n",
    "## update the full name by using previous code\n",
    "df['full_name'] = df['first'] + ' ' + df['last']"
   ]
  },
  {
   "cell_type": "code",
   "execution_count": 7,
   "id": "d12a3fa2",
   "metadata": {},
   "outputs": [
    {
     "data": {
      "text/html": [
       "<div>\n",
       "<style scoped>\n",
       "    .dataframe tbody tr th:only-of-type {\n",
       "        vertical-align: middle;\n",
       "    }\n",
       "\n",
       "    .dataframe tbody tr th {\n",
       "        vertical-align: top;\n",
       "    }\n",
       "\n",
       "    .dataframe thead th {\n",
       "        text-align: right;\n",
       "    }\n",
       "</style>\n",
       "<table border=\"1\" class=\"dataframe\">\n",
       "  <thead>\n",
       "    <tr style=\"text-align: right;\">\n",
       "      <th></th>\n",
       "      <th>first</th>\n",
       "      <th>last</th>\n",
       "      <th>email</th>\n",
       "      <th>full_name</th>\n",
       "    </tr>\n",
       "  </thead>\n",
       "  <tbody>\n",
       "    <tr>\n",
       "      <th>0</th>\n",
       "      <td>Abdul</td>\n",
       "      <td>Wasay</td>\n",
       "      <td>abdulwasay@gmail.com</td>\n",
       "      <td>Abdul Wasay</td>\n",
       "    </tr>\n",
       "    <tr>\n",
       "      <th>1</th>\n",
       "      <td>Shah</td>\n",
       "      <td>Khan</td>\n",
       "      <td>shahkhan@gmail.com</td>\n",
       "      <td>Shah Khan</td>\n",
       "    </tr>\n",
       "    <tr>\n",
       "      <th>2</th>\n",
       "      <td>Adnan</td>\n",
       "      <td>Khan</td>\n",
       "      <td>adnankhan@gmail.com</td>\n",
       "      <td>Adnan Khan</td>\n",
       "    </tr>\n",
       "  </tbody>\n",
       "</table>\n",
       "</div>"
      ],
      "text/plain": [
       "   first   last                 email    full_name\n",
       "0  Abdul  Wasay  abdulwasay@gmail.com  Abdul Wasay\n",
       "1   Shah   Khan    shahkhan@gmail.com    Shah Khan\n",
       "2  Adnan   Khan   adnankhan@gmail.com   Adnan Khan"
      ]
     },
     "execution_count": 7,
     "metadata": {},
     "output_type": "execute_result"
    }
   ],
   "source": [
    "## display\n",
    "df"
   ]
  },
  {
   "cell_type": "code",
   "execution_count": 8,
   "id": "dbfbc541",
   "metadata": {},
   "outputs": [],
   "source": [
    "## only want to display email and full_name column\n",
    "## update the dictionary\n",
    "## drop the first and last column\n",
    "df.drop(columns=['first', 'last'], inplace=True)"
   ]
  },
  {
   "cell_type": "code",
   "execution_count": 9,
   "id": "f4c1efd3",
   "metadata": {},
   "outputs": [
    {
     "data": {
      "text/html": [
       "<div>\n",
       "<style scoped>\n",
       "    .dataframe tbody tr th:only-of-type {\n",
       "        vertical-align: middle;\n",
       "    }\n",
       "\n",
       "    .dataframe tbody tr th {\n",
       "        vertical-align: top;\n",
       "    }\n",
       "\n",
       "    .dataframe thead th {\n",
       "        text-align: right;\n",
       "    }\n",
       "</style>\n",
       "<table border=\"1\" class=\"dataframe\">\n",
       "  <thead>\n",
       "    <tr style=\"text-align: right;\">\n",
       "      <th></th>\n",
       "      <th>email</th>\n",
       "      <th>full_name</th>\n",
       "    </tr>\n",
       "  </thead>\n",
       "  <tbody>\n",
       "    <tr>\n",
       "      <th>0</th>\n",
       "      <td>abdulwasay@gmail.com</td>\n",
       "      <td>Abdul Wasay</td>\n",
       "    </tr>\n",
       "    <tr>\n",
       "      <th>1</th>\n",
       "      <td>shahkhan@gmail.com</td>\n",
       "      <td>Shah Khan</td>\n",
       "    </tr>\n",
       "    <tr>\n",
       "      <th>2</th>\n",
       "      <td>adnankhan@gmail.com</td>\n",
       "      <td>Adnan Khan</td>\n",
       "    </tr>\n",
       "  </tbody>\n",
       "</table>\n",
       "</div>"
      ],
      "text/plain": [
       "                  email    full_name\n",
       "0  abdulwasay@gmail.com  Abdul Wasay\n",
       "1    shahkhan@gmail.com    Shah Khan\n",
       "2   adnankhan@gmail.com   Adnan Khan"
      ]
     },
     "execution_count": 9,
     "metadata": {},
     "output_type": "execute_result"
    }
   ],
   "source": [
    "df"
   ]
  },
  {
   "cell_type": "code",
   "execution_count": 10,
   "id": "23797670",
   "metadata": {},
   "outputs": [
    {
     "data": {
      "text/plain": [
       "0    [Abdul, Wasay]\n",
       "1      [Shah, Khan]\n",
       "2     [Adnan, Khan]\n",
       "Name: full_name, dtype: object"
      ]
     },
     "execution_count": 10,
     "metadata": {},
     "output_type": "execute_result"
    }
   ],
   "source": [
    "## split the full_name\n",
    "df['full_name'].str.split(' ')"
   ]
  },
  {
   "cell_type": "code",
   "execution_count": 11,
   "id": "94837850",
   "metadata": {},
   "outputs": [
    {
     "data": {
      "text/html": [
       "<div>\n",
       "<style scoped>\n",
       "    .dataframe tbody tr th:only-of-type {\n",
       "        vertical-align: middle;\n",
       "    }\n",
       "\n",
       "    .dataframe tbody tr th {\n",
       "        vertical-align: top;\n",
       "    }\n",
       "\n",
       "    .dataframe thead th {\n",
       "        text-align: right;\n",
       "    }\n",
       "</style>\n",
       "<table border=\"1\" class=\"dataframe\">\n",
       "  <thead>\n",
       "    <tr style=\"text-align: right;\">\n",
       "      <th></th>\n",
       "      <th>0</th>\n",
       "      <th>1</th>\n",
       "    </tr>\n",
       "  </thead>\n",
       "  <tbody>\n",
       "    <tr>\n",
       "      <th>0</th>\n",
       "      <td>Abdul</td>\n",
       "      <td>Wasay</td>\n",
       "    </tr>\n",
       "    <tr>\n",
       "      <th>1</th>\n",
       "      <td>Shah</td>\n",
       "      <td>Khan</td>\n",
       "    </tr>\n",
       "    <tr>\n",
       "      <th>2</th>\n",
       "      <td>Adnan</td>\n",
       "      <td>Khan</td>\n",
       "    </tr>\n",
       "  </tbody>\n",
       "</table>\n",
       "</div>"
      ],
      "text/plain": [
       "       0      1\n",
       "0  Abdul  Wasay\n",
       "1   Shah   Khan\n",
       "2  Adnan   Khan"
      ]
     },
     "execution_count": 11,
     "metadata": {},
     "output_type": "execute_result"
    }
   ],
   "source": [
    "## split the full_name column to first and last column\n",
    "df['full_name'].str.split(' ', expand=True)"
   ]
  },
  {
   "cell_type": "code",
   "execution_count": 12,
   "id": "de336a40",
   "metadata": {},
   "outputs": [],
   "source": [
    "## want to display full_name and splitted name\n",
    "## [[]] use to access multiple columns\n",
    "df[['first', 'last']] = df['full_name'].str.split(' ', expand=True)"
   ]
  },
  {
   "cell_type": "code",
   "execution_count": 13,
   "id": "ceb8c7de",
   "metadata": {},
   "outputs": [
    {
     "data": {
      "text/html": [
       "<div>\n",
       "<style scoped>\n",
       "    .dataframe tbody tr th:only-of-type {\n",
       "        vertical-align: middle;\n",
       "    }\n",
       "\n",
       "    .dataframe tbody tr th {\n",
       "        vertical-align: top;\n",
       "    }\n",
       "\n",
       "    .dataframe thead th {\n",
       "        text-align: right;\n",
       "    }\n",
       "</style>\n",
       "<table border=\"1\" class=\"dataframe\">\n",
       "  <thead>\n",
       "    <tr style=\"text-align: right;\">\n",
       "      <th></th>\n",
       "      <th>email</th>\n",
       "      <th>full_name</th>\n",
       "      <th>first</th>\n",
       "      <th>last</th>\n",
       "    </tr>\n",
       "  </thead>\n",
       "  <tbody>\n",
       "    <tr>\n",
       "      <th>0</th>\n",
       "      <td>abdulwasay@gmail.com</td>\n",
       "      <td>Abdul Wasay</td>\n",
       "      <td>Abdul</td>\n",
       "      <td>Wasay</td>\n",
       "    </tr>\n",
       "    <tr>\n",
       "      <th>1</th>\n",
       "      <td>shahkhan@gmail.com</td>\n",
       "      <td>Shah Khan</td>\n",
       "      <td>Shah</td>\n",
       "      <td>Khan</td>\n",
       "    </tr>\n",
       "    <tr>\n",
       "      <th>2</th>\n",
       "      <td>adnankhan@gmail.com</td>\n",
       "      <td>Adnan Khan</td>\n",
       "      <td>Adnan</td>\n",
       "      <td>Khan</td>\n",
       "    </tr>\n",
       "  </tbody>\n",
       "</table>\n",
       "</div>"
      ],
      "text/plain": [
       "                  email    full_name  first   last\n",
       "0  abdulwasay@gmail.com  Abdul Wasay  Abdul  Wasay\n",
       "1    shahkhan@gmail.com    Shah Khan   Shah   Khan\n",
       "2   adnankhan@gmail.com   Adnan Khan  Adnan   Khan"
      ]
     },
     "execution_count": 13,
     "metadata": {},
     "output_type": "execute_result"
    }
   ],
   "source": [
    "df"
   ]
  },
  {
   "cell_type": "code",
   "execution_count": 14,
   "id": "64fdea11",
   "metadata": {},
   "outputs": [
    {
     "data": {
      "text/html": [
       "<div>\n",
       "<style scoped>\n",
       "    .dataframe tbody tr th:only-of-type {\n",
       "        vertical-align: middle;\n",
       "    }\n",
       "\n",
       "    .dataframe tbody tr th {\n",
       "        vertical-align: top;\n",
       "    }\n",
       "\n",
       "    .dataframe thead th {\n",
       "        text-align: right;\n",
       "    }\n",
       "</style>\n",
       "<table border=\"1\" class=\"dataframe\">\n",
       "  <thead>\n",
       "    <tr style=\"text-align: right;\">\n",
       "      <th></th>\n",
       "      <th>email</th>\n",
       "      <th>full_name</th>\n",
       "      <th>first</th>\n",
       "      <th>last</th>\n",
       "    </tr>\n",
       "  </thead>\n",
       "  <tbody>\n",
       "    <tr>\n",
       "      <th>0</th>\n",
       "      <td>abdulwasay@gmail.com</td>\n",
       "      <td>Abdul Wasay</td>\n",
       "      <td>Abdul</td>\n",
       "      <td>Wasay</td>\n",
       "    </tr>\n",
       "    <tr>\n",
       "      <th>1</th>\n",
       "      <td>shahkhan@gmail.com</td>\n",
       "      <td>Shah Khan</td>\n",
       "      <td>Shah</td>\n",
       "      <td>Khan</td>\n",
       "    </tr>\n",
       "    <tr>\n",
       "      <th>2</th>\n",
       "      <td>adnankhan@gmail.com</td>\n",
       "      <td>Adnan Khan</td>\n",
       "      <td>Adnan</td>\n",
       "      <td>Khan</td>\n",
       "    </tr>\n",
       "    <tr>\n",
       "      <th>3</th>\n",
       "      <td>NaN</td>\n",
       "      <td>NaN</td>\n",
       "      <td>Shaukat</td>\n",
       "      <td>NaN</td>\n",
       "    </tr>\n",
       "  </tbody>\n",
       "</table>\n",
       "</div>"
      ],
      "text/plain": [
       "                  email    full_name    first   last\n",
       "0  abdulwasay@gmail.com  Abdul Wasay    Abdul  Wasay\n",
       "1    shahkhan@gmail.com    Shah Khan     Shah   Khan\n",
       "2   adnankhan@gmail.com   Adnan Khan    Adnan   Khan\n",
       "3                   NaN          NaN  Shaukat    NaN"
      ]
     },
     "execution_count": 14,
     "metadata": {},
     "output_type": "execute_result"
    }
   ],
   "source": [
    "## add another name in list --> only adding first name\n",
    "## append use for adding\n",
    "## without ignore_index=True it gives error\n",
    "df.append({'first': 'Shaukat'}, ignore_index=True)"
   ]
  },
  {
   "cell_type": "code",
   "execution_count": 15,
   "id": "d5a61eb8",
   "metadata": {},
   "outputs": [],
   "source": [
    "## make new Dictionary\n",
    "## create new dataframe\n",
    "people = {\n",
    "    'first': ['Shaukat', 'Basharat'], \n",
    "    'last': ['Aziz', 'Ali'], \n",
    "    'email': ['shaukataziz@gmail.com', 'basharatali@gmail.com']\n",
    "}"
   ]
  },
  {
   "cell_type": "code",
   "execution_count": 16,
   "id": "81f275b1",
   "metadata": {},
   "outputs": [],
   "source": [
    "df2 = pd.DataFrame(people)"
   ]
  },
  {
   "cell_type": "code",
   "execution_count": 17,
   "id": "fb5bcfa6",
   "metadata": {},
   "outputs": [
    {
     "data": {
      "text/html": [
       "<div>\n",
       "<style scoped>\n",
       "    .dataframe tbody tr th:only-of-type {\n",
       "        vertical-align: middle;\n",
       "    }\n",
       "\n",
       "    .dataframe tbody tr th {\n",
       "        vertical-align: top;\n",
       "    }\n",
       "\n",
       "    .dataframe thead th {\n",
       "        text-align: right;\n",
       "    }\n",
       "</style>\n",
       "<table border=\"1\" class=\"dataframe\">\n",
       "  <thead>\n",
       "    <tr style=\"text-align: right;\">\n",
       "      <th></th>\n",
       "      <th>first</th>\n",
       "      <th>last</th>\n",
       "      <th>email</th>\n",
       "    </tr>\n",
       "  </thead>\n",
       "  <tbody>\n",
       "    <tr>\n",
       "      <th>0</th>\n",
       "      <td>Shaukat</td>\n",
       "      <td>Aziz</td>\n",
       "      <td>shaukataziz@gmail.com</td>\n",
       "    </tr>\n",
       "    <tr>\n",
       "      <th>1</th>\n",
       "      <td>Basharat</td>\n",
       "      <td>Ali</td>\n",
       "      <td>basharatali@gmail.com</td>\n",
       "    </tr>\n",
       "  </tbody>\n",
       "</table>\n",
       "</div>"
      ],
      "text/plain": [
       "      first  last                  email\n",
       "0   Shaukat  Aziz  shaukataziz@gmail.com\n",
       "1  Basharat   Ali  basharatali@gmail.com"
      ]
     },
     "execution_count": 17,
     "metadata": {},
     "output_type": "execute_result"
    }
   ],
   "source": [
    "df2"
   ]
  },
  {
   "cell_type": "code",
   "execution_count": 18,
   "id": "40cf4465",
   "metadata": {},
   "outputs": [
    {
     "data": {
      "text/html": [
       "<div>\n",
       "<style scoped>\n",
       "    .dataframe tbody tr th:only-of-type {\n",
       "        vertical-align: middle;\n",
       "    }\n",
       "\n",
       "    .dataframe tbody tr th {\n",
       "        vertical-align: top;\n",
       "    }\n",
       "\n",
       "    .dataframe thead th {\n",
       "        text-align: right;\n",
       "    }\n",
       "</style>\n",
       "<table border=\"1\" class=\"dataframe\">\n",
       "  <thead>\n",
       "    <tr style=\"text-align: right;\">\n",
       "      <th></th>\n",
       "      <th>email</th>\n",
       "      <th>full_name</th>\n",
       "      <th>first</th>\n",
       "      <th>last</th>\n",
       "    </tr>\n",
       "  </thead>\n",
       "  <tbody>\n",
       "    <tr>\n",
       "      <th>0</th>\n",
       "      <td>abdulwasay@gmail.com</td>\n",
       "      <td>Abdul Wasay</td>\n",
       "      <td>Abdul</td>\n",
       "      <td>Wasay</td>\n",
       "    </tr>\n",
       "    <tr>\n",
       "      <th>1</th>\n",
       "      <td>shahkhan@gmail.com</td>\n",
       "      <td>Shah Khan</td>\n",
       "      <td>Shah</td>\n",
       "      <td>Khan</td>\n",
       "    </tr>\n",
       "    <tr>\n",
       "      <th>2</th>\n",
       "      <td>adnankhan@gmail.com</td>\n",
       "      <td>Adnan Khan</td>\n",
       "      <td>Adnan</td>\n",
       "      <td>Khan</td>\n",
       "    </tr>\n",
       "    <tr>\n",
       "      <th>3</th>\n",
       "      <td>shaukataziz@gmail.com</td>\n",
       "      <td>NaN</td>\n",
       "      <td>Shaukat</td>\n",
       "      <td>Aziz</td>\n",
       "    </tr>\n",
       "    <tr>\n",
       "      <th>4</th>\n",
       "      <td>basharatali@gmail.com</td>\n",
       "      <td>NaN</td>\n",
       "      <td>Basharat</td>\n",
       "      <td>Ali</td>\n",
       "    </tr>\n",
       "  </tbody>\n",
       "</table>\n",
       "</div>"
      ],
      "text/plain": [
       "                   email    full_name     first   last\n",
       "0   abdulwasay@gmail.com  Abdul Wasay     Abdul  Wasay\n",
       "1     shahkhan@gmail.com    Shah Khan      Shah   Khan\n",
       "2    adnankhan@gmail.com   Adnan Khan     Adnan   Khan\n",
       "3  shaukataziz@gmail.com          NaN   Shaukat   Aziz\n",
       "4  basharatali@gmail.com          NaN  Basharat    Ali"
      ]
     },
     "execution_count": 18,
     "metadata": {},
     "output_type": "execute_result"
    }
   ],
   "source": [
    "## combine the 1st and 2nd dataframe\n",
    "## ignore_index and without sortig\n",
    "df.append(df2, ignore_index=True, sort=False)"
   ]
  },
  {
   "cell_type": "code",
   "execution_count": 19,
   "id": "74d3aa81",
   "metadata": {},
   "outputs": [],
   "source": [
    "## update all the info to our original dataframe\n",
    "df = df.append(df2, ignore_index=True, sort=False)"
   ]
  },
  {
   "cell_type": "code",
   "execution_count": 20,
   "id": "c8971420",
   "metadata": {},
   "outputs": [
    {
     "data": {
      "text/html": [
       "<div>\n",
       "<style scoped>\n",
       "    .dataframe tbody tr th:only-of-type {\n",
       "        vertical-align: middle;\n",
       "    }\n",
       "\n",
       "    .dataframe tbody tr th {\n",
       "        vertical-align: top;\n",
       "    }\n",
       "\n",
       "    .dataframe thead th {\n",
       "        text-align: right;\n",
       "    }\n",
       "</style>\n",
       "<table border=\"1\" class=\"dataframe\">\n",
       "  <thead>\n",
       "    <tr style=\"text-align: right;\">\n",
       "      <th></th>\n",
       "      <th>email</th>\n",
       "      <th>full_name</th>\n",
       "      <th>first</th>\n",
       "      <th>last</th>\n",
       "    </tr>\n",
       "  </thead>\n",
       "  <tbody>\n",
       "    <tr>\n",
       "      <th>0</th>\n",
       "      <td>abdulwasay@gmail.com</td>\n",
       "      <td>Abdul Wasay</td>\n",
       "      <td>Abdul</td>\n",
       "      <td>Wasay</td>\n",
       "    </tr>\n",
       "    <tr>\n",
       "      <th>1</th>\n",
       "      <td>shahkhan@gmail.com</td>\n",
       "      <td>Shah Khan</td>\n",
       "      <td>Shah</td>\n",
       "      <td>Khan</td>\n",
       "    </tr>\n",
       "    <tr>\n",
       "      <th>2</th>\n",
       "      <td>adnankhan@gmail.com</td>\n",
       "      <td>Adnan Khan</td>\n",
       "      <td>Adnan</td>\n",
       "      <td>Khan</td>\n",
       "    </tr>\n",
       "    <tr>\n",
       "      <th>3</th>\n",
       "      <td>shaukataziz@gmail.com</td>\n",
       "      <td>NaN</td>\n",
       "      <td>Shaukat</td>\n",
       "      <td>Aziz</td>\n",
       "    </tr>\n",
       "    <tr>\n",
       "      <th>4</th>\n",
       "      <td>basharatali@gmail.com</td>\n",
       "      <td>NaN</td>\n",
       "      <td>Basharat</td>\n",
       "      <td>Ali</td>\n",
       "    </tr>\n",
       "  </tbody>\n",
       "</table>\n",
       "</div>"
      ],
      "text/plain": [
       "                   email    full_name     first   last\n",
       "0   abdulwasay@gmail.com  Abdul Wasay     Abdul  Wasay\n",
       "1     shahkhan@gmail.com    Shah Khan      Shah   Khan\n",
       "2    adnankhan@gmail.com   Adnan Khan     Adnan   Khan\n",
       "3  shaukataziz@gmail.com          NaN   Shaukat   Aziz\n",
       "4  basharatali@gmail.com          NaN  Basharat    Ali"
      ]
     },
     "execution_count": 20,
     "metadata": {},
     "output_type": "execute_result"
    }
   ],
   "source": [
    "df"
   ]
  },
  {
   "cell_type": "code",
   "execution_count": 21,
   "id": "8f254433",
   "metadata": {},
   "outputs": [
    {
     "data": {
      "text/html": [
       "<div>\n",
       "<style scoped>\n",
       "    .dataframe tbody tr th:only-of-type {\n",
       "        vertical-align: middle;\n",
       "    }\n",
       "\n",
       "    .dataframe tbody tr th {\n",
       "        vertical-align: top;\n",
       "    }\n",
       "\n",
       "    .dataframe thead th {\n",
       "        text-align: right;\n",
       "    }\n",
       "</style>\n",
       "<table border=\"1\" class=\"dataframe\">\n",
       "  <thead>\n",
       "    <tr style=\"text-align: right;\">\n",
       "      <th></th>\n",
       "      <th>email</th>\n",
       "      <th>full_name</th>\n",
       "      <th>first</th>\n",
       "      <th>last</th>\n",
       "    </tr>\n",
       "  </thead>\n",
       "  <tbody>\n",
       "    <tr>\n",
       "      <th>0</th>\n",
       "      <td>abdulwasay@gmail.com</td>\n",
       "      <td>Abdul Wasay</td>\n",
       "      <td>Abdul</td>\n",
       "      <td>Wasay</td>\n",
       "    </tr>\n",
       "    <tr>\n",
       "      <th>1</th>\n",
       "      <td>shahkhan@gmail.com</td>\n",
       "      <td>Shah Khan</td>\n",
       "      <td>Shah</td>\n",
       "      <td>Khan</td>\n",
       "    </tr>\n",
       "    <tr>\n",
       "      <th>2</th>\n",
       "      <td>adnankhan@gmail.com</td>\n",
       "      <td>Adnan Khan</td>\n",
       "      <td>Adnan</td>\n",
       "      <td>Khan</td>\n",
       "    </tr>\n",
       "    <tr>\n",
       "      <th>3</th>\n",
       "      <td>shaukataziz@gmail.com</td>\n",
       "      <td>NaN</td>\n",
       "      <td>Shaukat</td>\n",
       "      <td>Aziz</td>\n",
       "    </tr>\n",
       "  </tbody>\n",
       "</table>\n",
       "</div>"
      ],
      "text/plain": [
       "                   email    full_name    first   last\n",
       "0   abdulwasay@gmail.com  Abdul Wasay    Abdul  Wasay\n",
       "1     shahkhan@gmail.com    Shah Khan     Shah   Khan\n",
       "2    adnankhan@gmail.com   Adnan Khan    Adnan   Khan\n",
       "3  shaukataziz@gmail.com          NaN  Shaukat   Aziz"
      ]
     },
     "execution_count": 21,
     "metadata": {},
     "output_type": "execute_result"
    }
   ],
   "source": [
    "## display only 4 rows\n",
    "## drop index to 4\n",
    "df.drop(index=4)"
   ]
  },
  {
   "cell_type": "code",
   "execution_count": 22,
   "id": "e3f4495f",
   "metadata": {},
   "outputs": [
    {
     "data": {
      "text/html": [
       "<div>\n",
       "<style scoped>\n",
       "    .dataframe tbody tr th:only-of-type {\n",
       "        vertical-align: middle;\n",
       "    }\n",
       "\n",
       "    .dataframe tbody tr th {\n",
       "        vertical-align: top;\n",
       "    }\n",
       "\n",
       "    .dataframe thead th {\n",
       "        text-align: right;\n",
       "    }\n",
       "</style>\n",
       "<table border=\"1\" class=\"dataframe\">\n",
       "  <thead>\n",
       "    <tr style=\"text-align: right;\">\n",
       "      <th></th>\n",
       "      <th>email</th>\n",
       "      <th>full_name</th>\n",
       "      <th>first</th>\n",
       "      <th>last</th>\n",
       "    </tr>\n",
       "  </thead>\n",
       "  <tbody>\n",
       "    <tr>\n",
       "      <th>0</th>\n",
       "      <td>abdulwasay@gmail.com</td>\n",
       "      <td>Abdul Wasay</td>\n",
       "      <td>Abdul</td>\n",
       "      <td>Wasay</td>\n",
       "    </tr>\n",
       "    <tr>\n",
       "      <th>3</th>\n",
       "      <td>shaukataziz@gmail.com</td>\n",
       "      <td>NaN</td>\n",
       "      <td>Shaukat</td>\n",
       "      <td>Aziz</td>\n",
       "    </tr>\n",
       "    <tr>\n",
       "      <th>4</th>\n",
       "      <td>basharatali@gmail.com</td>\n",
       "      <td>NaN</td>\n",
       "      <td>Basharat</td>\n",
       "      <td>Ali</td>\n",
       "    </tr>\n",
       "  </tbody>\n",
       "</table>\n",
       "</div>"
      ],
      "text/plain": [
       "                   email    full_name     first   last\n",
       "0   abdulwasay@gmail.com  Abdul Wasay     Abdul  Wasay\n",
       "3  shaukataziz@gmail.com          NaN   Shaukat   Aziz\n",
       "4  basharatali@gmail.com          NaN  Basharat    Ali"
      ]
     },
     "execution_count": 22,
     "metadata": {},
     "output_type": "execute_result"
    }
   ],
   "source": [
    "## filter\n",
    "## drop all the rows having last name 'Khan'\n",
    "filt = df['last'] == 'Khan'\n",
    "df.drop(index=df[filt].index)"
   ]
  },
  {
   "cell_type": "code",
   "execution_count": 23,
   "id": "f63d111d",
   "metadata": {},
   "outputs": [
    {
     "data": {
      "text/html": [
       "<div>\n",
       "<style scoped>\n",
       "    .dataframe tbody tr th:only-of-type {\n",
       "        vertical-align: middle;\n",
       "    }\n",
       "\n",
       "    .dataframe tbody tr th {\n",
       "        vertical-align: top;\n",
       "    }\n",
       "\n",
       "    .dataframe thead th {\n",
       "        text-align: right;\n",
       "    }\n",
       "</style>\n",
       "<table border=\"1\" class=\"dataframe\">\n",
       "  <thead>\n",
       "    <tr style=\"text-align: right;\">\n",
       "      <th></th>\n",
       "      <th>email</th>\n",
       "      <th>full_name</th>\n",
       "      <th>first</th>\n",
       "      <th>last</th>\n",
       "    </tr>\n",
       "  </thead>\n",
       "  <tbody>\n",
       "    <tr>\n",
       "      <th>0</th>\n",
       "      <td>abdulwasay@gmail.com</td>\n",
       "      <td>Abdul Wasay</td>\n",
       "      <td>Abdul</td>\n",
       "      <td>Wasay</td>\n",
       "    </tr>\n",
       "    <tr>\n",
       "      <th>3</th>\n",
       "      <td>shaukataziz@gmail.com</td>\n",
       "      <td>NaN</td>\n",
       "      <td>Shaukat</td>\n",
       "      <td>Aziz</td>\n",
       "    </tr>\n",
       "    <tr>\n",
       "      <th>4</th>\n",
       "      <td>basharatali@gmail.com</td>\n",
       "      <td>NaN</td>\n",
       "      <td>Basharat</td>\n",
       "      <td>Ali</td>\n",
       "    </tr>\n",
       "  </tbody>\n",
       "</table>\n",
       "</div>"
      ],
      "text/plain": [
       "                   email    full_name     first   last\n",
       "0   abdulwasay@gmail.com  Abdul Wasay     Abdul  Wasay\n",
       "3  shaukataziz@gmail.com          NaN   Shaukat   Aziz\n",
       "4  basharatali@gmail.com          NaN  Basharat    Ali"
      ]
     },
     "execution_count": 23,
     "metadata": {},
     "output_type": "execute_result"
    }
   ],
   "source": [
    "## we also do this without filt\n",
    "## but with filt it is much easier and easy to read\n",
    "df.drop(index=df[df['last'] == 'Khan'].index)"
   ]
  },
  {
   "cell_type": "code",
   "execution_count": null,
   "id": "dcf775e8",
   "metadata": {},
   "outputs": [],
   "source": []
  }
 ],
 "metadata": {
  "kernelspec": {
   "display_name": "Python 3 (ipykernel)",
   "language": "python",
   "name": "python3"
  },
  "language_info": {
   "codemirror_mode": {
    "name": "ipython",
    "version": 3
   },
   "file_extension": ".py",
   "mimetype": "text/x-python",
   "name": "python",
   "nbconvert_exporter": "python",
   "pygments_lexer": "ipython3",
   "version": "3.7.9"
  }
 },
 "nbformat": 4,
 "nbformat_minor": 5
}
